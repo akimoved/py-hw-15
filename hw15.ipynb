{
 "cells": [
  {
   "cell_type": "markdown",
   "metadata": {
    "collapsed": true,
    "pycharm": {
     "name": "#%% md\n"
    }
   },
   "source": [
    "# Homework 15"
   ]
  },
  {
   "cell_type": "code",
   "execution_count": 2,
   "outputs": [],
   "source": [
    "import numpy as np\n",
    "import pandas as pd"
   ],
   "metadata": {
    "collapsed": false,
    "pycharm": {
     "name": "#%%\n"
    }
   }
  },
  {
   "cell_type": "markdown",
   "source": [
    "## Excercise 1"
   ],
   "metadata": {
    "collapsed": false,
    "pycharm": {
     "name": "#%% md\n"
    }
   }
  },
  {
   "cell_type": "code",
   "execution_count": 3,
   "outputs": [
    {
     "data": {
      "text/plain": "   surgery  Age  rectal_temperature  pulse  respiratory_rate  \\\n0    False    1                38.5   66.0              28.0   \n1     True    1                39.2   88.0              20.0   \n2    False    1                38.3   40.0              24.0   \n3     True    9                39.1  164.0              84.0   \n4    False    1                37.3  104.0              35.0   \n\n   temperature_of_extremities  pain         outcome  \n0                         3.0   5.0            died  \n1                         NaN   3.0  was euthanized  \n2                         1.0   3.0           lived  \n3                         4.0   2.0            died  \n4                         NaN   NaN            died  ",
      "text/html": "<div>\n<style scoped>\n    .dataframe tbody tr th:only-of-type {\n        vertical-align: middle;\n    }\n\n    .dataframe tbody tr th {\n        vertical-align: top;\n    }\n\n    .dataframe thead th {\n        text-align: right;\n    }\n</style>\n<table border=\"1\" class=\"dataframe\">\n  <thead>\n    <tr style=\"text-align: right;\">\n      <th></th>\n      <th>surgery</th>\n      <th>Age</th>\n      <th>rectal_temperature</th>\n      <th>pulse</th>\n      <th>respiratory_rate</th>\n      <th>temperature_of_extremities</th>\n      <th>pain</th>\n      <th>outcome</th>\n    </tr>\n  </thead>\n  <tbody>\n    <tr>\n      <th>0</th>\n      <td>False</td>\n      <td>1</td>\n      <td>38.5</td>\n      <td>66.0</td>\n      <td>28.0</td>\n      <td>3.0</td>\n      <td>5.0</td>\n      <td>died</td>\n    </tr>\n    <tr>\n      <th>1</th>\n      <td>True</td>\n      <td>1</td>\n      <td>39.2</td>\n      <td>88.0</td>\n      <td>20.0</td>\n      <td>NaN</td>\n      <td>3.0</td>\n      <td>was euthanized</td>\n    </tr>\n    <tr>\n      <th>2</th>\n      <td>False</td>\n      <td>1</td>\n      <td>38.3</td>\n      <td>40.0</td>\n      <td>24.0</td>\n      <td>1.0</td>\n      <td>3.0</td>\n      <td>lived</td>\n    </tr>\n    <tr>\n      <th>3</th>\n      <td>True</td>\n      <td>9</td>\n      <td>39.1</td>\n      <td>164.0</td>\n      <td>84.0</td>\n      <td>4.0</td>\n      <td>2.0</td>\n      <td>died</td>\n    </tr>\n    <tr>\n      <th>4</th>\n      <td>False</td>\n      <td>1</td>\n      <td>37.3</td>\n      <td>104.0</td>\n      <td>35.0</td>\n      <td>NaN</td>\n      <td>NaN</td>\n      <td>died</td>\n    </tr>\n  </tbody>\n</table>\n</div>"
     },
     "execution_count": 3,
     "metadata": {},
     "output_type": "execute_result"
    }
   ],
   "source": [
    "df = pd.read_csv('src/horse_data.csv',\n",
    "                 usecols=[0, 1, 3, 4, 5, 6, 10, 22],\n",
    "                 names=['surgery', 'Age', 'rectal_temperature', 'pulse', 'respiratory_rate', 'temperature_of_extremities', 'pain', 'outcome'],\n",
    "                 na_values='?')\n",
    "df.surgery = df.surgery.apply(lambda x: True if x == 1.0 else False)\n",
    "df.outcome = df.outcome.replace([1.0, 2.0, 3.0], ['lived', 'died', 'was euthanized'])\n",
    "\n",
    "df.head()"
   ],
   "metadata": {
    "collapsed": false,
    "pycharm": {
     "name": "#%%\n"
    }
   }
  },
  {
   "cell_type": "markdown",
   "source": [
    "## Excericse 2"
   ],
   "metadata": {
    "collapsed": false,
    "pycharm": {
     "name": "#%% md\n"
    }
   }
  },
  {
   "cell_type": "code",
   "execution_count": 4,
   "outputs": [
    {
     "name": "stdout",
     "output_type": "stream",
     "text": [
      "              Age  rectal_temperature       pulse  respiratory_rate\n",
      "count  300.000000          240.000000  276.000000        242.000000\n",
      "mean     1.640000           38.167917   71.913043         30.417355\n",
      "std      2.173972            0.732289   28.630557         17.642231\n",
      "min      1.000000           35.400000   30.000000          8.000000\n",
      "25%      1.000000           37.800000   48.000000         18.500000\n",
      "50%      1.000000           38.200000   64.000000         24.500000\n",
      "75%      1.000000           38.500000   88.000000         36.000000\n",
      "max      9.000000           40.800000  184.000000         96.000000\n",
      "-----------------\n",
      "surgery True\n",
      "-----------------\n",
      "temperature_of_extremities 3.0\n",
      "-----------------\n",
      "pain 3.0\n",
      "-----------------\n",
      "outcome lived\n"
     ]
    }
   ],
   "source": [
    "print(df[['Age', 'rectal_temperature', 'pulse', 'respiratory_rate']].describe())\n",
    "print('-----------------')\n",
    "print('surgery',df.surgery.mode()[0])\n",
    "print('-----------------')\n",
    "print('temperature_of_extremities',df.temperature_of_extremities.mode()[0])\n",
    "print('-----------------')\n",
    "print('pain',df.pain.mode()[0])\n",
    "print('-----------------')\n",
    "print('outcome',df.outcome.mode()[0])"
   ],
   "metadata": {
    "collapsed": false,
    "pycharm": {
     "name": "#%%\n"
    }
   }
  },
  {
   "cell_type": "code",
   "execution_count": 16,
   "outputs": [
    {
     "data": {
      "text/plain": "     surgery  Age  rectal_temperature  pulse  respiratory_rate  \\\n0      False    1                38.5   66.0              28.0   \n1       True    1                39.2   88.0              20.0   \n2      False    1                38.3   40.0              24.0   \n4      False    1                37.3  104.0              35.0   \n6       True    1                37.9   48.0              16.0   \n..       ...  ...                 ...    ...               ...   \n292     True    1                37.0   66.0              20.0   \n294    False    1                38.5   40.0              16.0   \n296    False    1                37.2   72.0              24.0   \n297     True    1                37.5   72.0              30.0   \n299     True    1                37.2   40.0              20.0   \n\n     temperature_of_extremities  pain         outcome  \n0                           3.0   5.0            died  \n1                           NaN   3.0  was euthanized  \n2                           1.0   3.0           lived  \n4                           NaN   NaN            died  \n6                           1.0   3.0           lived  \n..                          ...   ...             ...  \n292                         1.0   4.0            died  \n294                         1.0   2.0           lived  \n296                         3.0   4.0  was euthanized  \n297                         4.0   4.0            died  \n299                         NaN   NaN  was euthanized  \n\n[171 rows x 8 columns]",
      "text/html": "<div>\n<style scoped>\n    .dataframe tbody tr th:only-of-type {\n        vertical-align: middle;\n    }\n\n    .dataframe tbody tr th {\n        vertical-align: top;\n    }\n\n    .dataframe thead th {\n        text-align: right;\n    }\n</style>\n<table border=\"1\" class=\"dataframe\">\n  <thead>\n    <tr style=\"text-align: right;\">\n      <th></th>\n      <th>surgery</th>\n      <th>Age</th>\n      <th>rectal_temperature</th>\n      <th>pulse</th>\n      <th>respiratory_rate</th>\n      <th>temperature_of_extremities</th>\n      <th>pain</th>\n      <th>outcome</th>\n    </tr>\n  </thead>\n  <tbody>\n    <tr>\n      <th>0</th>\n      <td>False</td>\n      <td>1</td>\n      <td>38.5</td>\n      <td>66.0</td>\n      <td>28.0</td>\n      <td>3.0</td>\n      <td>5.0</td>\n      <td>died</td>\n    </tr>\n    <tr>\n      <th>1</th>\n      <td>True</td>\n      <td>1</td>\n      <td>39.2</td>\n      <td>88.0</td>\n      <td>20.0</td>\n      <td>NaN</td>\n      <td>3.0</td>\n      <td>was euthanized</td>\n    </tr>\n    <tr>\n      <th>2</th>\n      <td>False</td>\n      <td>1</td>\n      <td>38.3</td>\n      <td>40.0</td>\n      <td>24.0</td>\n      <td>1.0</td>\n      <td>3.0</td>\n      <td>lived</td>\n    </tr>\n    <tr>\n      <th>4</th>\n      <td>False</td>\n      <td>1</td>\n      <td>37.3</td>\n      <td>104.0</td>\n      <td>35.0</td>\n      <td>NaN</td>\n      <td>NaN</td>\n      <td>died</td>\n    </tr>\n    <tr>\n      <th>6</th>\n      <td>True</td>\n      <td>1</td>\n      <td>37.9</td>\n      <td>48.0</td>\n      <td>16.0</td>\n      <td>1.0</td>\n      <td>3.0</td>\n      <td>lived</td>\n    </tr>\n    <tr>\n      <th>...</th>\n      <td>...</td>\n      <td>...</td>\n      <td>...</td>\n      <td>...</td>\n      <td>...</td>\n      <td>...</td>\n      <td>...</td>\n      <td>...</td>\n    </tr>\n    <tr>\n      <th>292</th>\n      <td>True</td>\n      <td>1</td>\n      <td>37.0</td>\n      <td>66.0</td>\n      <td>20.0</td>\n      <td>1.0</td>\n      <td>4.0</td>\n      <td>died</td>\n    </tr>\n    <tr>\n      <th>294</th>\n      <td>False</td>\n      <td>1</td>\n      <td>38.5</td>\n      <td>40.0</td>\n      <td>16.0</td>\n      <td>1.0</td>\n      <td>2.0</td>\n      <td>lived</td>\n    </tr>\n    <tr>\n      <th>296</th>\n      <td>False</td>\n      <td>1</td>\n      <td>37.2</td>\n      <td>72.0</td>\n      <td>24.0</td>\n      <td>3.0</td>\n      <td>4.0</td>\n      <td>was euthanized</td>\n    </tr>\n    <tr>\n      <th>297</th>\n      <td>True</td>\n      <td>1</td>\n      <td>37.5</td>\n      <td>72.0</td>\n      <td>30.0</td>\n      <td>4.0</td>\n      <td>4.0</td>\n      <td>died</td>\n    </tr>\n    <tr>\n      <th>299</th>\n      <td>True</td>\n      <td>1</td>\n      <td>37.2</td>\n      <td>40.0</td>\n      <td>20.0</td>\n      <td>NaN</td>\n      <td>NaN</td>\n      <td>was euthanized</td>\n    </tr>\n  </tbody>\n</table>\n<p>171 rows × 8 columns</p>\n</div>"
     },
     "execution_count": 16,
     "metadata": {},
     "output_type": "execute_result"
    }
   ],
   "source": [
    "def upper_bound(column):\n",
    "\n",
    "    q1 = df[column].quantile(0.25)\n",
    "    q3 = df[column].quantile(0.75)\n",
    "    iqr = q3 - q1\n",
    "    upper_bound = q3 + (1.5 * iqr)\n",
    "\n",
    "    return upper_bound\n",
    "\n",
    "def lower_bound(column):\n",
    "\n",
    "    q1 = df[column].quantile(0.25)\n",
    "    q3 = df[column].quantile(0.75)\n",
    "    iqr = q3 - q1\n",
    "    lower_bound = q1 - (1.5 * iqr)\n",
    "\n",
    "    return lower_bound\n",
    "\n",
    "remove_outliers = df\n",
    "for column in remove_outliers[['Age', 'rectal_temperature', 'pulse', 'respiratory_rate']]:\n",
    "    remove_outliers = remove_outliers[remove_outliers[column].between(lower_bound(column), upper_bound(column), inclusive=True)]\n",
    "\n",
    "remove_outliers"
   ],
   "metadata": {
    "collapsed": false,
    "pycharm": {
     "name": "#%%\n"
    }
   }
  },
  {
   "cell_type": "markdown",
   "source": [
    "## Excercise 3"
   ],
   "metadata": {
    "collapsed": false,
    "pycharm": {
     "name": "#%% md\n"
    }
   }
  },
  {
   "cell_type": "code",
   "execution_count": 10,
   "outputs": [
    {
     "data": {
      "text/plain": "     surgery  Age  rectal_temperature  pulse  respiratory_rate  \\\n1       True    1                39.2   88.0              20.0   \n4      False    1                37.3  104.0              35.0   \n17     False    1                37.5   48.0              24.0   \n19     False    1                39.4  110.0              35.0   \n24      True    1                38.1   60.0              12.0   \n25     False    1                37.8   60.0              42.0   \n27      True    1                37.8   48.0              12.0   \n36     False    1                38.3  112.0              16.0   \n53     False    1                38.6   40.0              20.0   \n90     False    1                38.0   52.0              16.0   \n94     False    1                37.5   48.0              30.0   \n95      True    1                37.3   48.0              20.0   \n113     True    1                36.8   60.0              28.0   \n121     True    1                38.3   80.0              40.0   \n128     True    1                37.4   84.0              20.0   \n130     True    1                37.8   30.0              12.0   \n132    False    1                38.0   48.0              20.0   \n149    False    1                38.7   48.0              24.0   \n157     True    1                37.8   60.0              24.0   \n161     True    1                38.3   42.0              24.0   \n165     True    1                39.4  120.0              48.0   \n170    False    1                37.5   44.0              20.0   \n181    False    1                37.8   48.0              14.0   \n185     True    1                38.5  120.0              60.0   \n190     True    1                37.1   40.0               8.0   \n195    False    1                38.0   44.0              12.0   \n202     True    1                37.5   48.0              40.0   \n210     True    1                37.9   68.0              20.0   \n213     True    1                37.6   45.0              12.0   \n217     True    1                38.0   76.0              18.0   \n232     True    1                38.5   30.0              18.0   \n234    False    1                37.5   48.0              30.0   \n239     True    1                38.1   70.0              22.0   \n243     True    1                38.4   92.0              20.0   \n257     True    1                38.7   96.0              28.0   \n260    False    1                38.0   40.0              25.0   \n263     True    1                37.1   75.0              36.0   \n268     True    1                38.2   42.0              20.0   \n280     True    1                38.6   48.0              12.0   \n283     True    1                38.2   72.0              18.0   \n289     True    1                38.0   50.0              36.0   \n299     True    1                37.2   40.0              20.0   \n\n     temperature_of_extremities  pain         outcome  \n1                           NaN   3.0  was euthanized  \n4                           NaN   NaN            died  \n17                          NaN   NaN           lived  \n19                          4.0   NaN           lived  \n24                          3.0   NaN           lived  \n25                          NaN   NaN           lived  \n27                          3.0   NaN           lived  \n36                          NaN   NaN  was euthanized  \n53                          NaN   NaN           lived  \n90                          NaN   2.0           lived  \n94                          4.0   NaN           lived  \n95                          NaN   3.0           lived  \n113                         NaN   NaN            died  \n121                         NaN   4.0  was euthanized  \n128                         NaN   2.0  was euthanized  \n130                         NaN   NaN            died  \n132                         3.0   4.0             NaN  \n149                         NaN   1.0           lived  \n157                         1.0   NaN  was euthanized  \n161                         NaN   NaN            died  \n165                         NaN   NaN  was euthanized  \n170                         1.0   NaN           lived  \n181                         NaN   3.0           lived  \n185                         4.0   NaN           lived  \n190                         NaN   3.0           lived  \n195                         3.0   NaN           lived  \n202                         NaN   NaN  was euthanized  \n210                         NaN   2.0            died  \n213                         3.0   NaN           lived  \n217                         NaN   NaN           lived  \n232                         NaN   NaN           lived  \n234                         4.0   NaN           lived  \n239                         NaN   5.0  was euthanized  \n243                         1.0   NaN           lived  \n257                         3.0   NaN            died  \n260                         NaN   4.0           lived  \n263                         NaN   4.0            died  \n268                         NaN   NaN           lived  \n280                         NaN   1.0           lived  \n283                         NaN   NaN           lived  \n289                         NaN   3.0           lived  \n299                         NaN   NaN  was euthanized  ",
      "text/html": "<div>\n<style scoped>\n    .dataframe tbody tr th:only-of-type {\n        vertical-align: middle;\n    }\n\n    .dataframe tbody tr th {\n        vertical-align: top;\n    }\n\n    .dataframe thead th {\n        text-align: right;\n    }\n</style>\n<table border=\"1\" class=\"dataframe\">\n  <thead>\n    <tr style=\"text-align: right;\">\n      <th></th>\n      <th>surgery</th>\n      <th>Age</th>\n      <th>rectal_temperature</th>\n      <th>pulse</th>\n      <th>respiratory_rate</th>\n      <th>temperature_of_extremities</th>\n      <th>pain</th>\n      <th>outcome</th>\n    </tr>\n  </thead>\n  <tbody>\n    <tr>\n      <th>1</th>\n      <td>True</td>\n      <td>1</td>\n      <td>39.2</td>\n      <td>88.0</td>\n      <td>20.0</td>\n      <td>NaN</td>\n      <td>3.0</td>\n      <td>was euthanized</td>\n    </tr>\n    <tr>\n      <th>4</th>\n      <td>False</td>\n      <td>1</td>\n      <td>37.3</td>\n      <td>104.0</td>\n      <td>35.0</td>\n      <td>NaN</td>\n      <td>NaN</td>\n      <td>died</td>\n    </tr>\n    <tr>\n      <th>17</th>\n      <td>False</td>\n      <td>1</td>\n      <td>37.5</td>\n      <td>48.0</td>\n      <td>24.0</td>\n      <td>NaN</td>\n      <td>NaN</td>\n      <td>lived</td>\n    </tr>\n    <tr>\n      <th>19</th>\n      <td>False</td>\n      <td>1</td>\n      <td>39.4</td>\n      <td>110.0</td>\n      <td>35.0</td>\n      <td>4.0</td>\n      <td>NaN</td>\n      <td>lived</td>\n    </tr>\n    <tr>\n      <th>24</th>\n      <td>True</td>\n      <td>1</td>\n      <td>38.1</td>\n      <td>60.0</td>\n      <td>12.0</td>\n      <td>3.0</td>\n      <td>NaN</td>\n      <td>lived</td>\n    </tr>\n    <tr>\n      <th>25</th>\n      <td>False</td>\n      <td>1</td>\n      <td>37.8</td>\n      <td>60.0</td>\n      <td>42.0</td>\n      <td>NaN</td>\n      <td>NaN</td>\n      <td>lived</td>\n    </tr>\n    <tr>\n      <th>27</th>\n      <td>True</td>\n      <td>1</td>\n      <td>37.8</td>\n      <td>48.0</td>\n      <td>12.0</td>\n      <td>3.0</td>\n      <td>NaN</td>\n      <td>lived</td>\n    </tr>\n    <tr>\n      <th>36</th>\n      <td>False</td>\n      <td>1</td>\n      <td>38.3</td>\n      <td>112.0</td>\n      <td>16.0</td>\n      <td>NaN</td>\n      <td>NaN</td>\n      <td>was euthanized</td>\n    </tr>\n    <tr>\n      <th>53</th>\n      <td>False</td>\n      <td>1</td>\n      <td>38.6</td>\n      <td>40.0</td>\n      <td>20.0</td>\n      <td>NaN</td>\n      <td>NaN</td>\n      <td>lived</td>\n    </tr>\n    <tr>\n      <th>90</th>\n      <td>False</td>\n      <td>1</td>\n      <td>38.0</td>\n      <td>52.0</td>\n      <td>16.0</td>\n      <td>NaN</td>\n      <td>2.0</td>\n      <td>lived</td>\n    </tr>\n    <tr>\n      <th>94</th>\n      <td>False</td>\n      <td>1</td>\n      <td>37.5</td>\n      <td>48.0</td>\n      <td>30.0</td>\n      <td>4.0</td>\n      <td>NaN</td>\n      <td>lived</td>\n    </tr>\n    <tr>\n      <th>95</th>\n      <td>True</td>\n      <td>1</td>\n      <td>37.3</td>\n      <td>48.0</td>\n      <td>20.0</td>\n      <td>NaN</td>\n      <td>3.0</td>\n      <td>lived</td>\n    </tr>\n    <tr>\n      <th>113</th>\n      <td>True</td>\n      <td>1</td>\n      <td>36.8</td>\n      <td>60.0</td>\n      <td>28.0</td>\n      <td>NaN</td>\n      <td>NaN</td>\n      <td>died</td>\n    </tr>\n    <tr>\n      <th>121</th>\n      <td>True</td>\n      <td>1</td>\n      <td>38.3</td>\n      <td>80.0</td>\n      <td>40.0</td>\n      <td>NaN</td>\n      <td>4.0</td>\n      <td>was euthanized</td>\n    </tr>\n    <tr>\n      <th>128</th>\n      <td>True</td>\n      <td>1</td>\n      <td>37.4</td>\n      <td>84.0</td>\n      <td>20.0</td>\n      <td>NaN</td>\n      <td>2.0</td>\n      <td>was euthanized</td>\n    </tr>\n    <tr>\n      <th>130</th>\n      <td>True</td>\n      <td>1</td>\n      <td>37.8</td>\n      <td>30.0</td>\n      <td>12.0</td>\n      <td>NaN</td>\n      <td>NaN</td>\n      <td>died</td>\n    </tr>\n    <tr>\n      <th>132</th>\n      <td>False</td>\n      <td>1</td>\n      <td>38.0</td>\n      <td>48.0</td>\n      <td>20.0</td>\n      <td>3.0</td>\n      <td>4.0</td>\n      <td>NaN</td>\n    </tr>\n    <tr>\n      <th>149</th>\n      <td>False</td>\n      <td>1</td>\n      <td>38.7</td>\n      <td>48.0</td>\n      <td>24.0</td>\n      <td>NaN</td>\n      <td>1.0</td>\n      <td>lived</td>\n    </tr>\n    <tr>\n      <th>157</th>\n      <td>True</td>\n      <td>1</td>\n      <td>37.8</td>\n      <td>60.0</td>\n      <td>24.0</td>\n      <td>1.0</td>\n      <td>NaN</td>\n      <td>was euthanized</td>\n    </tr>\n    <tr>\n      <th>161</th>\n      <td>True</td>\n      <td>1</td>\n      <td>38.3</td>\n      <td>42.0</td>\n      <td>24.0</td>\n      <td>NaN</td>\n      <td>NaN</td>\n      <td>died</td>\n    </tr>\n    <tr>\n      <th>165</th>\n      <td>True</td>\n      <td>1</td>\n      <td>39.4</td>\n      <td>120.0</td>\n      <td>48.0</td>\n      <td>NaN</td>\n      <td>NaN</td>\n      <td>was euthanized</td>\n    </tr>\n    <tr>\n      <th>170</th>\n      <td>False</td>\n      <td>1</td>\n      <td>37.5</td>\n      <td>44.0</td>\n      <td>20.0</td>\n      <td>1.0</td>\n      <td>NaN</td>\n      <td>lived</td>\n    </tr>\n    <tr>\n      <th>181</th>\n      <td>False</td>\n      <td>1</td>\n      <td>37.8</td>\n      <td>48.0</td>\n      <td>14.0</td>\n      <td>NaN</td>\n      <td>3.0</td>\n      <td>lived</td>\n    </tr>\n    <tr>\n      <th>185</th>\n      <td>True</td>\n      <td>1</td>\n      <td>38.5</td>\n      <td>120.0</td>\n      <td>60.0</td>\n      <td>4.0</td>\n      <td>NaN</td>\n      <td>lived</td>\n    </tr>\n    <tr>\n      <th>190</th>\n      <td>True</td>\n      <td>1</td>\n      <td>37.1</td>\n      <td>40.0</td>\n      <td>8.0</td>\n      <td>NaN</td>\n      <td>3.0</td>\n      <td>lived</td>\n    </tr>\n    <tr>\n      <th>195</th>\n      <td>False</td>\n      <td>1</td>\n      <td>38.0</td>\n      <td>44.0</td>\n      <td>12.0</td>\n      <td>3.0</td>\n      <td>NaN</td>\n      <td>lived</td>\n    </tr>\n    <tr>\n      <th>202</th>\n      <td>True</td>\n      <td>1</td>\n      <td>37.5</td>\n      <td>48.0</td>\n      <td>40.0</td>\n      <td>NaN</td>\n      <td>NaN</td>\n      <td>was euthanized</td>\n    </tr>\n    <tr>\n      <th>210</th>\n      <td>True</td>\n      <td>1</td>\n      <td>37.9</td>\n      <td>68.0</td>\n      <td>20.0</td>\n      <td>NaN</td>\n      <td>2.0</td>\n      <td>died</td>\n    </tr>\n    <tr>\n      <th>213</th>\n      <td>True</td>\n      <td>1</td>\n      <td>37.6</td>\n      <td>45.0</td>\n      <td>12.0</td>\n      <td>3.0</td>\n      <td>NaN</td>\n      <td>lived</td>\n    </tr>\n    <tr>\n      <th>217</th>\n      <td>True</td>\n      <td>1</td>\n      <td>38.0</td>\n      <td>76.0</td>\n      <td>18.0</td>\n      <td>NaN</td>\n      <td>NaN</td>\n      <td>lived</td>\n    </tr>\n    <tr>\n      <th>232</th>\n      <td>True</td>\n      <td>1</td>\n      <td>38.5</td>\n      <td>30.0</td>\n      <td>18.0</td>\n      <td>NaN</td>\n      <td>NaN</td>\n      <td>lived</td>\n    </tr>\n    <tr>\n      <th>234</th>\n      <td>False</td>\n      <td>1</td>\n      <td>37.5</td>\n      <td>48.0</td>\n      <td>30.0</td>\n      <td>4.0</td>\n      <td>NaN</td>\n      <td>lived</td>\n    </tr>\n    <tr>\n      <th>239</th>\n      <td>True</td>\n      <td>1</td>\n      <td>38.1</td>\n      <td>70.0</td>\n      <td>22.0</td>\n      <td>NaN</td>\n      <td>5.0</td>\n      <td>was euthanized</td>\n    </tr>\n    <tr>\n      <th>243</th>\n      <td>True</td>\n      <td>1</td>\n      <td>38.4</td>\n      <td>92.0</td>\n      <td>20.0</td>\n      <td>1.0</td>\n      <td>NaN</td>\n      <td>lived</td>\n    </tr>\n    <tr>\n      <th>257</th>\n      <td>True</td>\n      <td>1</td>\n      <td>38.7</td>\n      <td>96.0</td>\n      <td>28.0</td>\n      <td>3.0</td>\n      <td>NaN</td>\n      <td>died</td>\n    </tr>\n    <tr>\n      <th>260</th>\n      <td>False</td>\n      <td>1</td>\n      <td>38.0</td>\n      <td>40.0</td>\n      <td>25.0</td>\n      <td>NaN</td>\n      <td>4.0</td>\n      <td>lived</td>\n    </tr>\n    <tr>\n      <th>263</th>\n      <td>True</td>\n      <td>1</td>\n      <td>37.1</td>\n      <td>75.0</td>\n      <td>36.0</td>\n      <td>NaN</td>\n      <td>4.0</td>\n      <td>died</td>\n    </tr>\n    <tr>\n      <th>268</th>\n      <td>True</td>\n      <td>1</td>\n      <td>38.2</td>\n      <td>42.0</td>\n      <td>20.0</td>\n      <td>NaN</td>\n      <td>NaN</td>\n      <td>lived</td>\n    </tr>\n    <tr>\n      <th>280</th>\n      <td>True</td>\n      <td>1</td>\n      <td>38.6</td>\n      <td>48.0</td>\n      <td>12.0</td>\n      <td>NaN</td>\n      <td>1.0</td>\n      <td>lived</td>\n    </tr>\n    <tr>\n      <th>283</th>\n      <td>True</td>\n      <td>1</td>\n      <td>38.2</td>\n      <td>72.0</td>\n      <td>18.0</td>\n      <td>NaN</td>\n      <td>NaN</td>\n      <td>lived</td>\n    </tr>\n    <tr>\n      <th>289</th>\n      <td>True</td>\n      <td>1</td>\n      <td>38.0</td>\n      <td>50.0</td>\n      <td>36.0</td>\n      <td>NaN</td>\n      <td>3.0</td>\n      <td>lived</td>\n    </tr>\n    <tr>\n      <th>299</th>\n      <td>True</td>\n      <td>1</td>\n      <td>37.2</td>\n      <td>40.0</td>\n      <td>20.0</td>\n      <td>NaN</td>\n      <td>NaN</td>\n      <td>was euthanized</td>\n    </tr>\n  </tbody>\n</table>\n</div>"
     },
     "execution_count": 10,
     "metadata": {},
     "output_type": "execute_result"
    }
   ],
   "source": [
    "remove_outliers[remove_outliers.isna().any(axis=1)]\n",
    "\n",
    "# пропуски присутствуют в столбцах temperature_of_extremities и pain\n",
    "# pain - качественная номинальная характеристика\n",
    "# temperature_of_extremities - качественная порядковая характеристика"
   ],
   "metadata": {
    "collapsed": false,
    "pycharm": {
     "name": "#%%\n"
    }
   }
  },
  {
   "cell_type": "code",
   "execution_count": 51,
   "outputs": [],
   "source": [
    "remove_outliers['pain'].fillna(remove_outliers.pain.mode()[0], inplace=True)\n",
    "remove_outliers['temperature_of_extremities'].fillna(remove_outliers.temperature_of_extremities.mode()[0], inplace=True)"
   ],
   "metadata": {
    "collapsed": false,
    "pycharm": {
     "name": "#%%\n"
    }
   }
  }
 ],
 "metadata": {
  "kernelspec": {
   "display_name": "Python 3",
   "language": "python",
   "name": "python3"
  },
  "language_info": {
   "codemirror_mode": {
    "name": "ipython",
    "version": 2
   },
   "file_extension": ".py",
   "mimetype": "text/x-python",
   "name": "python",
   "nbconvert_exporter": "python",
   "pygments_lexer": "ipython2",
   "version": "2.7.6"
  }
 },
 "nbformat": 4,
 "nbformat_minor": 0
}