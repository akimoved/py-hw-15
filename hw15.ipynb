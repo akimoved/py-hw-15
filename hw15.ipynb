{
 "cells": [
  {
   "cell_type": "markdown",
   "metadata": {
    "collapsed": true,
    "pycharm": {
     "name": "#%% md\n"
    }
   },
   "source": [
    "# Homework 15"
   ]
  },
  {
   "cell_type": "code",
   "execution_count": null,
   "metadata": {
    "pycharm": {
     "name": "#%%\n"
    }
   },
   "outputs": [],
   "source": [
    "import numpy as np\n",
    "import pandas as pd"
   ]
  },
  {
   "cell_type": "markdown",
   "metadata": {
    "pycharm": {
     "name": "#%% md\n"
    }
   },
   "source": [
    "## Excercise 1"
   ]
  },
  {
   "cell_type": "code",
   "execution_count": null,
   "metadata": {
    "pycharm": {
     "name": "#%%\n"
    }
   },
   "outputs": [],
   "source": [
    "df = pd.read_csv('src/horse_data.csv',\n",
    "                 usecols=[0, 1, 3, 4, 5, 6, 10, 22],\n",
    "                 names=['surgery', 'Age', 'rectal_temperature', 'pulse', 'respiratory_rate', 'temperature_of_extremities', 'pain', 'outcome'],\n",
    "                 na_values='?')\n",
    "df.surgery = df.surgery.apply(lambda x: True if x == 1.0 else False)\n",
    "df.outcome = df.outcome.replace([1.0, 2.0, 3.0], ['lived', 'died', 'was euthanized'])\n",
    "\n",
    "df.head()"
   ]
  },
  {
   "cell_type": "markdown",
   "metadata": {
    "pycharm": {
     "name": "#%% md\n"
    }
   },
   "source": [
    "## Excericse 2"
   ]
  },
  {
   "cell_type": "code",
   "execution_count": null,
   "metadata": {
    "pycharm": {
     "name": "#%%\n"
    }
   },
   "outputs": [],
   "source": [
    "print(df[['Age', 'rectal_temperature', 'pulse', 'respiratory_rate']].describe())\n",
    "print('-----------------')\n",
    "print('surgery',df.surgery.mode()[0])\n",
    "print('-----------------')\n",
    "print('temperature_of_extremities',df.temperature_of_extremities.mode()[0])\n",
    "print('-----------------')\n",
    "print('pain',df.pain.mode()[0])\n",
    "print('-----------------')\n",
    "print('outcome',df.outcome.mode()[0])"
   ]
  },
  {
   "cell_type": "code",
   "execution_count": null,
   "metadata": {
    "pycharm": {
     "name": "#%%\n"
    }
   },
   "outputs": [],
   "source": [
    "def upper_bound(column):\n",
    "\n",
    "    q1 = df[column].quantile(0.25)\n",
    "    q3 = df[column].quantile(0.75)\n",
    "    iqr = q3 - q1\n",
    "    upper_bound = q3 + (1.5 * iqr)\n",
    "\n",
    "    return upper_bound\n",
    "\n",
    "def lower_bound(column):\n",
    "\n",
    "    q1 = df[column].quantile(0.25)\n",
    "    q3 = df[column].quantile(0.75)\n",
    "    iqr = q3 - q1\n",
    "    lower_bound = q1 - (1.5 * iqr)\n",
    "\n",
    "    return lower_bound\n",
    "\n",
    "remove_outliers = df\n",
    "for column in remove_outliers[['Age', 'rectal_temperature', 'pulse', 'respiratory_rate']]:\n",
    "    remove_outliers = remove_outliers[remove_outliers[column].between(lower_bound(column), upper_bound(column), inclusive=True)]\n",
    "\n",
    "remove_outliers"
   ]
  },
  {
   "cell_type": "markdown",
   "metadata": {
    "pycharm": {
     "name": "#%% md\n"
    }
   },
   "source": [
    "## Excercise 3"
   ]
  },
  {
   "cell_type": "code",
   "execution_count": null,
   "metadata": {
    "pycharm": {
     "name": "#%%\n"
    }
   },
   "outputs": [],
   "source": [
    "remove_outliers[remove_outliers.isna().any(axis=1)]\n",
    "\n",
    "# пропуски присутствуют в столбцах temperature_of_extremities и pain\n",
    "# pain - качественная номинальная характеристика\n",
    "# temperature_of_extremities - качественная порядковая характеристика"
   ]
  },
  {
   "cell_type": "markdown",
   "metadata": {},
   "source": [
    "Так как обе характеристики являются качественными, то в данном случае наиболее адекватным будет заполнение модальным значением величин"
   ]
  },
  {
   "cell_type": "code",
   "execution_count": null,
   "metadata": {
    "pycharm": {
     "name": "#%%\n"
    }
   },
   "outputs": [],
   "source": [
    "remove_outliers['pain'].fillna(remove_outliers.pain.mode()[0], inplace=True)\n",
    "remove_outliers['temperature_of_extremities'].fillna(remove_outliers.temperature_of_extremities.mode()[0], inplace=True)"
   ]
  }
 ],
 "metadata": {
  "kernelspec": {
   "display_name": "Python 3",
   "language": "python",
   "name": "python3"
  },
  "language_info": {
   "codemirror_mode": {
    "name": "ipython",
    "version": 3
   },
   "file_extension": ".py",
   "mimetype": "text/x-python",
   "name": "python",
   "nbconvert_exporter": "python",
   "pygments_lexer": "ipython3",
   "version": "3.8.5"
  }
 },
 "nbformat": 4,
 "nbformat_minor": 1
}
